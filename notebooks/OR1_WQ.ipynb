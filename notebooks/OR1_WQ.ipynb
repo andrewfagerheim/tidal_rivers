{
 "cells": [
  {
   "cell_type": "code",
   "execution_count": 9,
   "id": "731f753a",
   "metadata": {},
   "outputs": [],
   "source": [
    "import dataretrieval.nwis as nwis\n",
    "import pandas as pd\n",
    "import xarray as xr\n",
    "import matplotlib.pyplot as plt\n",
    "import matplotlib.dates as mdates\n",
    "from datetime import datetime\n",
    "import cartopy.crs as ccrs\n",
    "import cartopy\n",
    "import numpy as np"
   ]
  },
  {
   "cell_type": "code",
   "execution_count": 10,
   "id": "6a8d017f",
   "metadata": {},
   "outputs": [],
   "source": [
    "def drop_nan_var(ds,var):\n",
    "    if ds[var].isnull().all():\n",
    "        ds = ds.drop_vars(var)\n",
    "    return ds\n",
    "\n",
    "def var_to_float(ds,var):\n",
    "    if var.startswith('p'):\n",
    "        ds[var] = ds[var].to_series().apply(lambda x: pd.to_numeric(x, errors='coerce')).to_xarray()\n",
    "    return ds"
   ]
  },
  {
   "cell_type": "code",
   "execution_count": 11,
   "id": "2024d39e",
   "metadata": {},
   "outputs": [],
   "source": [
    "main = \"C:\\\\Users\\\\andfa\\\\OneDrive\\\\Documents\\\\2024 Spring\\\\tidal_rivers\\\\OR1_WQ\\\\\""
   ]
  },
  {
   "cell_type": "code",
   "execution_count": 12,
   "id": "7af8fe88",
   "metadata": {},
   "outputs": [
    {
     "ename": "ValueError",
     "evalue": "did not find a match in any of xarray's currently installed IO backends ['netcdf4', 'scipy', 'argo']. Consider explicitly selecting one of the installed engines via the ``engine`` parameter, or installing additional IO dependencies, see:\nhttp://xarray.pydata.org/en/stable/getting-started-guide/installing.html\nhttp://xarray.pydata.org/en/stable/user-guide/io.html",
     "output_type": "error",
     "traceback": [
      "\u001b[1;31m---------------------------------------------------------------------------\u001b[0m",
      "\u001b[1;31mValueError\u001b[0m                                Traceback (most recent call last)",
      "Input \u001b[1;32mIn [12]\u001b[0m, in \u001b[0;36m<cell line: 1>\u001b[1;34m()\u001b[0m\n\u001b[1;32m----> 1\u001b[0m or1 \u001b[38;5;241m=\u001b[39m \u001b[43mxr\u001b[49m\u001b[38;5;241;43m.\u001b[39;49m\u001b[43mopen_dataset\u001b[49m\u001b[43m(\u001b[49m\u001b[43mmain\u001b[49m\u001b[38;5;241;43m+\u001b[39;49m\u001b[38;5;124;43m\"\u001b[39;49m\u001b[38;5;124;43mor1.nc\u001b[39;49m\u001b[38;5;124;43m\"\u001b[39;49m\u001b[43m)\u001b[49m\n",
      "File \u001b[1;32m~\\anaconda3\\lib\\site-packages\\xarray\\backends\\api.py:479\u001b[0m, in \u001b[0;36mopen_dataset\u001b[1;34m(filename_or_obj, engine, chunks, cache, decode_cf, mask_and_scale, decode_times, decode_timedelta, use_cftime, concat_characters, decode_coords, drop_variables, backend_kwargs, *args, **kwargs)\u001b[0m\n\u001b[0;32m    476\u001b[0m     kwargs\u001b[38;5;241m.\u001b[39mupdate(backend_kwargs)\n\u001b[0;32m    478\u001b[0m \u001b[38;5;28;01mif\u001b[39;00m engine \u001b[38;5;129;01mis\u001b[39;00m \u001b[38;5;28;01mNone\u001b[39;00m:\n\u001b[1;32m--> 479\u001b[0m     engine \u001b[38;5;241m=\u001b[39m \u001b[43mplugins\u001b[49m\u001b[38;5;241;43m.\u001b[39;49m\u001b[43mguess_engine\u001b[49m\u001b[43m(\u001b[49m\u001b[43mfilename_or_obj\u001b[49m\u001b[43m)\u001b[49m\n\u001b[0;32m    481\u001b[0m backend \u001b[38;5;241m=\u001b[39m plugins\u001b[38;5;241m.\u001b[39mget_backend(engine)\n\u001b[0;32m    483\u001b[0m decoders \u001b[38;5;241m=\u001b[39m _resolve_decoders_kwargs(\n\u001b[0;32m    484\u001b[0m     decode_cf,\n\u001b[0;32m    485\u001b[0m     open_backend_dataset_parameters\u001b[38;5;241m=\u001b[39mbackend\u001b[38;5;241m.\u001b[39mopen_dataset_parameters,\n\u001b[1;32m   (...)\u001b[0m\n\u001b[0;32m    491\u001b[0m     decode_coords\u001b[38;5;241m=\u001b[39mdecode_coords,\n\u001b[0;32m    492\u001b[0m )\n",
      "File \u001b[1;32m~\\anaconda3\\lib\\site-packages\\xarray\\backends\\plugins.py:152\u001b[0m, in \u001b[0;36mguess_engine\u001b[1;34m(store_spec)\u001b[0m\n\u001b[0;32m    144\u001b[0m \u001b[38;5;28;01melse\u001b[39;00m:\n\u001b[0;32m    145\u001b[0m     error_msg \u001b[38;5;241m=\u001b[39m (\n\u001b[0;32m    146\u001b[0m         \u001b[38;5;124m\"\u001b[39m\u001b[38;5;124mfound the following matches with the input file in xarray\u001b[39m\u001b[38;5;124m'\u001b[39m\u001b[38;5;124ms IO \u001b[39m\u001b[38;5;124m\"\u001b[39m\n\u001b[0;32m    147\u001b[0m         \u001b[38;5;124mf\u001b[39m\u001b[38;5;124m\"\u001b[39m\u001b[38;5;124mbackends: \u001b[39m\u001b[38;5;132;01m{\u001b[39;00mcompatible_engines\u001b[38;5;132;01m}\u001b[39;00m\u001b[38;5;124m. But their dependencies may not be installed, see:\u001b[39m\u001b[38;5;130;01m\\n\u001b[39;00m\u001b[38;5;124m\"\u001b[39m\n\u001b[0;32m    148\u001b[0m         \u001b[38;5;124m\"\u001b[39m\u001b[38;5;124mhttp://xarray.pydata.org/en/stable/user-guide/io.html \u001b[39m\u001b[38;5;130;01m\\n\u001b[39;00m\u001b[38;5;124m\"\u001b[39m\n\u001b[0;32m    149\u001b[0m         \u001b[38;5;124m\"\u001b[39m\u001b[38;5;124mhttp://xarray.pydata.org/en/stable/getting-started-guide/installing.html\u001b[39m\u001b[38;5;124m\"\u001b[39m\n\u001b[0;32m    150\u001b[0m     )\n\u001b[1;32m--> 152\u001b[0m \u001b[38;5;28;01mraise\u001b[39;00m \u001b[38;5;167;01mValueError\u001b[39;00m(error_msg)\n",
      "\u001b[1;31mValueError\u001b[0m: did not find a match in any of xarray's currently installed IO backends ['netcdf4', 'scipy', 'argo']. Consider explicitly selecting one of the installed engines via the ``engine`` parameter, or installing additional IO dependencies, see:\nhttp://xarray.pydata.org/en/stable/getting-started-guide/installing.html\nhttp://xarray.pydata.org/en/stable/user-guide/io.html"
     ]
    }
   ],
   "source": [
    "or1 = xr.open_dataset(main+\"or1.nc\")"
   ]
  },
  {
   "cell_type": "code",
   "execution_count": null,
   "id": "cdde29e8",
   "metadata": {},
   "outputs": [],
   "source": [
    "or1"
   ]
  },
  {
   "cell_type": "markdown",
   "id": "84cbded5",
   "metadata": {},
   "source": [
    "# Ploting all good timeseries"
   ]
  },
  {
   "cell_type": "code",
   "execution_count": null,
   "id": "52797256",
   "metadata": {},
   "outputs": [],
   "source": [
    "var01 = 'p00010'\n",
    "var02 = 'p00020'\n",
    "var03 = 'p00061'\n",
    "var04 = 'p00065'\n",
    "var05 = 'p00076'\n",
    "var06 = 'p00095'\n",
    "var07 = 'p00300'\n",
    "var08 = 'p00301'\n",
    "var09 = 'p00400'\n",
    "var10 = 'p00403'\n",
    "var11 = 'p00405'\n",
    "var12 = 'p00600'\n",
    "var13 = 'p00602'\n",
    "var14 = 'p00631'\n",
    "var15 = 'p00665'\n",
    "var16 = 'p00666'\n",
    "var17 = 'p00915'\n",
    "var18 = 'p00930'\n",
    "var19 = 'p00945'\n",
    "\n",
    "var_list = [var01,var02,var03,var04,var05,var06,var07,var08,var09,var10,var11,var12,var13,var14,var15,var16,var17,var18,var19]"
   ]
  },
  {
   "cell_type": "code",
   "execution_count": null,
   "id": "60a58098",
   "metadata": {},
   "outputs": [],
   "source": [
    "plt.figure(figsize=(35,45))\n",
    "\n",
    "for n in range(1,20):\n",
    "    plt.subplot(5,4,n)\n",
    "    plt.plot(or1.sample_dt,or1[var_list[n-1]],color='#00A884',label='all data points')\n",
    "    plt.plot(or1.sample_dt.resample(sample_dt='Y').mean(), or1[var_list[n-1]].resample(sample_dt='Y').mean(),color='k',label='annual average value')\n",
    "    plt.xlabel(or1.sample_dt.attrs['Name'])\n",
    "    plt.ylabel(or1[var_list[n-1]].attrs['Name'] + or1[var_list[n-1]].attrs['Units'])\n",
    "    plt.xticks(rotation=45)\n",
    "    plt.title(or1[var_list[n-1]].attrs['Name'])\n",
    "\n",
    "plt.subplots_adjust(hspace=0.25)"
   ]
  },
  {
   "cell_type": "markdown",
   "id": "aa0dc0b5",
   "metadata": {},
   "source": [
    "# Selective plotting"
   ]
  },
  {
   "cell_type": "code",
   "execution_count": null,
   "id": "c7553116",
   "metadata": {},
   "outputs": [],
   "source": [
    "plt.rcParams['font.size'] = 18"
   ]
  },
  {
   "cell_type": "code",
   "execution_count": 5,
   "id": "1831ab78",
   "metadata": {},
   "outputs": [],
   "source": [
    "var_list = ['p00010','p00061','p00065','p00076','p00300','p00400','p00602','p00666','p00915','p00930','p00945']"
   ]
  },
  {
   "cell_type": "code",
   "execution_count": 6,
   "id": "ca81281c",
   "metadata": {},
   "outputs": [
    {
     "ename": "NameError",
     "evalue": "name 'or1' is not defined",
     "output_type": "error",
     "traceback": [
      "\u001b[1;31m---------------------------------------------------------------------------\u001b[0m",
      "\u001b[1;31mNameError\u001b[0m                                 Traceback (most recent call last)",
      "Input \u001b[1;32mIn [6]\u001b[0m, in \u001b[0;36m<cell line: 1>\u001b[1;34m()\u001b[0m\n\u001b[0;32m      1\u001b[0m \u001b[38;5;28;01mfor\u001b[39;00m var \u001b[38;5;129;01min\u001b[39;00m var_list:\n\u001b[0;32m      2\u001b[0m     plt\u001b[38;5;241m.\u001b[39mfigure(figsize\u001b[38;5;241m=\u001b[39m(\u001b[38;5;241m20\u001b[39m,\u001b[38;5;241m10\u001b[39m))\n\u001b[1;32m----> 3\u001b[0m     \u001b[43mor1\u001b[49m[var]\u001b[38;5;241m.\u001b[39mplot(color\u001b[38;5;241m=\u001b[39m\u001b[38;5;124m'\u001b[39m\u001b[38;5;124m#00A884\u001b[39m\u001b[38;5;124m'\u001b[39m,label\u001b[38;5;241m=\u001b[39m\u001b[38;5;124m'\u001b[39m\u001b[38;5;124mall data points\u001b[39m\u001b[38;5;124m'\u001b[39m)\n\u001b[0;32m      4\u001b[0m     or1[var]\u001b[38;5;241m.\u001b[39mresample(sample_dt\u001b[38;5;241m=\u001b[39m\u001b[38;5;124m'\u001b[39m\u001b[38;5;124mY\u001b[39m\u001b[38;5;124m'\u001b[39m)\u001b[38;5;241m.\u001b[39mmean()\u001b[38;5;241m.\u001b[39mplot(color\u001b[38;5;241m=\u001b[39m\u001b[38;5;124m'\u001b[39m\u001b[38;5;124mk\u001b[39m\u001b[38;5;124m'\u001b[39m,label\u001b[38;5;241m=\u001b[39m\u001b[38;5;124m'\u001b[39m\u001b[38;5;124mannual average value\u001b[39m\u001b[38;5;124m'\u001b[39m)\n\u001b[0;32m      5\u001b[0m     plt\u001b[38;5;241m.\u001b[39mxlabel(or1\u001b[38;5;241m.\u001b[39msample_dt\u001b[38;5;241m.\u001b[39mattrs[\u001b[38;5;124m'\u001b[39m\u001b[38;5;124mName\u001b[39m\u001b[38;5;124m'\u001b[39m])\n",
      "\u001b[1;31mNameError\u001b[0m: name 'or1' is not defined"
     ]
    },
    {
     "data": {
      "text/plain": [
       "<Figure size 1440x720 with 0 Axes>"
      ]
     },
     "metadata": {},
     "output_type": "display_data"
    }
   ],
   "source": [
    "for var in var_list:\n",
    "    plt.figure(figsize=(20,10))\n",
    "    or1[var].plot(color='#00A884',label='all data points')\n",
    "    or1[var].resample(sample_dt='Y').mean().plot(color='k',label='annual average value')\n",
    "    plt.xlabel(or1.sample_dt.attrs['Name'])\n",
    "    plt.xlim(pd.Timestamp('1990-01-01'),pd.Timestamp('2021-12-31'))\n",
    "    years = mdates.YearLocator(2)   # every year\n",
    "    years_fmt = mdates.DateFormatter('%Y')\n",
    "    ax = plt.gca()\n",
    "    ax.xaxis.set_major_locator(years)\n",
    "    ax.xaxis.set_major_formatter(years_fmt)\n",
    "    plt.ylabel(or1[var].attrs['Name'] + ' ' + or1[var].attrs['Units'])\n",
    "    plt.legend()\n",
    "    plt.title(or1[var].attrs['Name'])\n",
    "    plt.savefig(main + var + '.png')\n",
    "    plt.clf()"
   ]
  },
  {
   "cell_type": "code",
   "execution_count": null,
   "id": "1e363ddf",
   "metadata": {},
   "outputs": [],
   "source": []
  }
 ],
 "metadata": {
  "kernelspec": {
   "display_name": "Python 3 (ipykernel)",
   "language": "python",
   "name": "python3"
  },
  "language_info": {
   "codemirror_mode": {
    "name": "ipython",
    "version": 3
   },
   "file_extension": ".py",
   "mimetype": "text/x-python",
   "name": "python",
   "nbconvert_exporter": "python",
   "pygments_lexer": "ipython3",
   "version": "3.9.12"
  }
 },
 "nbformat": 4,
 "nbformat_minor": 5
}
